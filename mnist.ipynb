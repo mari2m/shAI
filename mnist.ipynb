{
 "cells": [
  {
   "cell_type": "code",
   "execution_count": 1,
   "id": "919df8ac",
   "metadata": {
    "_cell_guid": "b1076dfc-b9ad-4769-8c92-a6c4dae69d19",
    "_uuid": "8f2839f25d086af736a60e9eeb907d3b93b6e0e5",
    "execution": {
     "iopub.execute_input": "2024-07-07T00:42:24.553230Z",
     "iopub.status.busy": "2024-07-07T00:42:24.552833Z",
     "iopub.status.idle": "2024-07-07T00:42:25.457957Z",
     "shell.execute_reply": "2024-07-07T00:42:25.456571Z"
    },
    "papermill": {
     "duration": 0.918348,
     "end_time": "2024-07-07T00:42:25.461185",
     "exception": false,
     "start_time": "2024-07-07T00:42:24.542837",
     "status": "completed"
    },
    "tags": []
   },
   "outputs": [
    {
     "name": "stdout",
     "output_type": "stream",
     "text": [
      "/kaggle/input/mnist-dataset/train-images.idx3-ubyte\n",
      "/kaggle/input/mnist-dataset/t10k-labels.idx1-ubyte\n",
      "/kaggle/input/mnist-dataset/t10k-images.idx3-ubyte\n",
      "/kaggle/input/mnist-dataset/train-labels.idx1-ubyte\n",
      "/kaggle/input/mnist-dataset/t10k-labels-idx1-ubyte/t10k-labels-idx1-ubyte\n",
      "/kaggle/input/mnist-dataset/t10k-images-idx3-ubyte/t10k-images-idx3-ubyte\n",
      "/kaggle/input/mnist-dataset/train-labels-idx1-ubyte/train-labels-idx1-ubyte\n",
      "/kaggle/input/mnist-dataset/train-images-idx3-ubyte/train-images-idx3-ubyte\n"
     ]
    }
   ],
   "source": [
    "# This Python 3 environment comes with many helpful analytics libraries installed\n",
    "# It is defined by the kaggle/python Docker image: https://github.com/kaggle/docker-python\n",
    "# For example, here's several helpful packages to load\n",
    "\n",
    "import numpy as np # linear algebra\n",
    "import pandas as pd # data processing, CSV file I/O (e.g. pd.read_csv)\n",
    "\n",
    "# Input data files are available in the read-only \"../input/\" directory\n",
    "# For example, running this (by clicking run or pressing Shift+Enter) will list all files under the input directory\n",
    "\n",
    "import os\n",
    "for dirname, _, filenames in os.walk('/kaggle/input'):\n",
    "    for filename in filenames:\n",
    "        print(os.path.join(dirname, filename))\n",
    "\n",
    "# You can write up to 20GB to the current directory (/kaggle/working/) that gets preserved as output when you create a version using \"Save & Run All\" \n",
    "# You can also write temporary files to /kaggle/temp/, but they won't be saved outside of the current session"
   ]
  },
  {
   "cell_type": "code",
   "execution_count": 2,
   "id": "96af8d0f",
   "metadata": {
    "execution": {
     "iopub.execute_input": "2024-07-07T00:42:25.480282Z",
     "iopub.status.busy": "2024-07-07T00:42:25.479798Z",
     "iopub.status.idle": "2024-07-07T00:42:38.771511Z",
     "shell.execute_reply": "2024-07-07T00:42:38.770415Z"
    },
    "papermill": {
     "duration": 13.30391,
     "end_time": "2024-07-07T00:42:38.774187",
     "exception": false,
     "start_time": "2024-07-07T00:42:25.470277",
     "status": "completed"
    },
    "tags": []
   },
   "outputs": [
    {
     "name": "stderr",
     "output_type": "stream",
     "text": [
      "2024-07-07 00:42:27.632315: E external/local_xla/xla/stream_executor/cuda/cuda_dnn.cc:9261] Unable to register cuDNN factory: Attempting to register factory for plugin cuDNN when one has already been registered\n",
      "2024-07-07 00:42:27.632438: E external/local_xla/xla/stream_executor/cuda/cuda_fft.cc:607] Unable to register cuFFT factory: Attempting to register factory for plugin cuFFT when one has already been registered\n",
      "2024-07-07 00:42:27.783779: E external/local_xla/xla/stream_executor/cuda/cuda_blas.cc:1515] Unable to register cuBLAS factory: Attempting to register factory for plugin cuBLAS when one has already been registered\n"
     ]
    }
   ],
   "source": [
    "import tensorflow \n",
    "from tensorflow import keras"
   ]
  },
  {
   "cell_type": "code",
   "execution_count": 3,
   "id": "0e4cc6be",
   "metadata": {
    "execution": {
     "iopub.execute_input": "2024-07-07T00:42:38.792835Z",
     "iopub.status.busy": "2024-07-07T00:42:38.792172Z",
     "iopub.status.idle": "2024-07-07T00:42:39.299831Z",
     "shell.execute_reply": "2024-07-07T00:42:39.298789Z"
    },
    "papermill": {
     "duration": 0.519798,
     "end_time": "2024-07-07T00:42:39.302385",
     "exception": false,
     "start_time": "2024-07-07T00:42:38.782587",
     "status": "completed"
    },
    "tags": []
   },
   "outputs": [
    {
     "name": "stdout",
     "output_type": "stream",
     "text": [
      "Downloading data from https://storage.googleapis.com/tensorflow/tf-keras-datasets/mnist.npz\n",
      "\u001b[1m11490434/11490434\u001b[0m \u001b[32m━━━━━━━━━━━━━━━━━━━━\u001b[0m\u001b[37m\u001b[0m \u001b[1m0s\u001b[0m 0us/step\n"
     ]
    }
   ],
   "source": [
    "(X_train,y_train),(X_test,y_test)=keras.datasets.mnist.load_data()"
   ]
  },
  {
   "cell_type": "code",
   "execution_count": 4,
   "id": "c113b250",
   "metadata": {
    "execution": {
     "iopub.execute_input": "2024-07-07T00:42:39.321870Z",
     "iopub.status.busy": "2024-07-07T00:42:39.321416Z",
     "iopub.status.idle": "2024-07-07T00:42:39.327388Z",
     "shell.execute_reply": "2024-07-07T00:42:39.326315Z"
    },
    "papermill": {
     "duration": 0.018789,
     "end_time": "2024-07-07T00:42:39.329969",
     "exception": false,
     "start_time": "2024-07-07T00:42:39.311180",
     "status": "completed"
    },
    "tags": []
   },
   "outputs": [
    {
     "name": "stdout",
     "output_type": "stream",
     "text": [
      "Train images shape: (60000, 28, 28)\n",
      "Train labels shape: (60000,)\n",
      "Test images shape: (10000, 28, 28)\n",
      "Test labels shape: (10000,)\n"
     ]
    }
   ],
   "source": [
    "print(f'Train images shape: {X_train.shape}')\n",
    "print(f'Train labels shape: {y_train.shape}')\n",
    "print(f'Test images shape: {X_test.shape}')\n",
    "print(f'Test labels shape: {y_test.shape}')"
   ]
  },
  {
   "cell_type": "code",
   "execution_count": 5,
   "id": "0667a216",
   "metadata": {
    "execution": {
     "iopub.execute_input": "2024-07-07T00:42:39.348949Z",
     "iopub.status.busy": "2024-07-07T00:42:39.348512Z",
     "iopub.status.idle": "2024-07-07T00:42:39.378956Z",
     "shell.execute_reply": "2024-07-07T00:42:39.377803Z"
    },
    "papermill": {
     "duration": 0.042734,
     "end_time": "2024-07-07T00:42:39.381472",
     "exception": false,
     "start_time": "2024-07-07T00:42:39.338738",
     "status": "completed"
    },
    "tags": []
   },
   "outputs": [],
   "source": [
    "X_train = X_train.reshape(X_train.shape[0], -1).flatten()\n",
    "y_train = y_train.reshape(y_train.shape[0], -1).flatten()\n",
    "X_test = X_test.reshape(X_test.shape[0], -1)\n",
    "y_test = y_test.reshape(y_test.shape[0], -1)"
   ]
  },
  {
   "cell_type": "code",
   "execution_count": 6,
   "id": "a13cca63",
   "metadata": {
    "execution": {
     "iopub.execute_input": "2024-07-07T00:42:39.400730Z",
     "iopub.status.busy": "2024-07-07T00:42:39.400302Z",
     "iopub.status.idle": "2024-07-07T00:42:39.406319Z",
     "shell.execute_reply": "2024-07-07T00:42:39.405189Z"
    },
    "papermill": {
     "duration": 0.018196,
     "end_time": "2024-07-07T00:42:39.408553",
     "exception": false,
     "start_time": "2024-07-07T00:42:39.390357",
     "status": "completed"
    },
    "tags": []
   },
   "outputs": [
    {
     "name": "stdout",
     "output_type": "stream",
     "text": [
      "Train images shape: (47040000,)\n",
      "Train labels shape: (60000,)\n",
      "Test images shape: (10000, 784)\n",
      "Test labels shape: (10000, 1)\n"
     ]
    }
   ],
   "source": [
    "print(f'Train images shape: {X_train.shape}')\n",
    "print(f'Train labels shape: {y_train.shape}')\n",
    "print(f'Test images shape: {X_test.shape}')\n",
    "print(f'Test labels shape: {y_test.shape}')"
   ]
  },
  {
   "cell_type": "code",
   "execution_count": 7,
   "id": "94da82bb",
   "metadata": {
    "execution": {
     "iopub.execute_input": "2024-07-07T00:42:39.429629Z",
     "iopub.status.busy": "2024-07-07T00:42:39.428493Z",
     "iopub.status.idle": "2024-07-07T00:43:59.117490Z",
     "shell.execute_reply": "2024-07-07T00:43:59.116402Z"
    },
    "papermill": {
     "duration": 79.70289,
     "end_time": "2024-07-07T00:43:59.120264",
     "exception": false,
     "start_time": "2024-07-07T00:42:39.417374",
     "status": "completed"
    },
    "tags": []
   },
   "outputs": [
    {
     "name": "stderr",
     "output_type": "stream",
     "text": [
      "/opt/conda/lib/python3.10/site-packages/sklearn/datasets/_openml.py:968: FutureWarning: The default value of `parser` will change from `'liac-arff'` to `'auto'` in 1.4. You can set `parser='auto'` to silence this warning. Therefore, an `ImportError` will be raised from 1.4 if the dataset is dense and pandas is not installed. Note that the pandas parser may return different data types. See the Notes Section in fetch_openml's API doc for details.\n",
      "  warn(\n"
     ]
    }
   ],
   "source": [
    "from sklearn.datasets import fetch_openml\n",
    "\n",
    "mnist = fetch_openml('mnist_784', as_frame=False)\n",
    "X, y = mnist.data, mnist.target\n",
    "X_train, X_test, y_train, y_test = X[:60000], X[60000:], y[:60000], y[60000:]"
   ]
  },
  {
   "cell_type": "code",
   "execution_count": 8,
   "id": "a77e464b",
   "metadata": {
    "execution": {
     "iopub.execute_input": "2024-07-07T00:43:59.140362Z",
     "iopub.status.busy": "2024-07-07T00:43:59.139957Z",
     "iopub.status.idle": "2024-07-07T00:43:59.146655Z",
     "shell.execute_reply": "2024-07-07T00:43:59.145584Z"
    },
    "papermill": {
     "duration": 0.019672,
     "end_time": "2024-07-07T00:43:59.148895",
     "exception": false,
     "start_time": "2024-07-07T00:43:59.129223",
     "status": "completed"
    },
    "tags": []
   },
   "outputs": [],
   "source": [
    "\n",
    "y_train = (y_train == '5')# True for all 5s, False for all other digits\n",
    "y_test = (y_test == '5')"
   ]
  },
  {
   "cell_type": "code",
   "execution_count": 9,
   "id": "e7c4f401",
   "metadata": {
    "execution": {
     "iopub.execute_input": "2024-07-07T00:43:59.167788Z",
     "iopub.status.busy": "2024-07-07T00:43:59.167406Z",
     "iopub.status.idle": "2024-07-07T00:43:59.364313Z",
     "shell.execute_reply": "2024-07-07T00:43:59.363242Z"
    },
    "papermill": {
     "duration": 0.209294,
     "end_time": "2024-07-07T00:43:59.366874",
     "exception": false,
     "start_time": "2024-07-07T00:43:59.157580",
     "status": "completed"
    },
    "tags": []
   },
   "outputs": [],
   "source": [
    "from sklearn.linear_model import SGDClassifier\n",
    "\n",
    "# Create an SGDClassifier instance\n",
    "sgd_clf = SGDClassifier(random_state=42)"
   ]
  },
  {
   "cell_type": "code",
   "execution_count": 10,
   "id": "fef5f853",
   "metadata": {
    "execution": {
     "iopub.execute_input": "2024-07-07T00:43:59.385944Z",
     "iopub.status.busy": "2024-07-07T00:43:59.385538Z",
     "iopub.status.idle": "2024-07-07T00:44:22.206378Z",
     "shell.execute_reply": "2024-07-07T00:44:22.205172Z"
    },
    "papermill": {
     "duration": 22.832965,
     "end_time": "2024-07-07T00:44:22.208691",
     "exception": false,
     "start_time": "2024-07-07T00:43:59.375726",
     "status": "completed"
    },
    "tags": []
   },
   "outputs": [
    {
     "data": {
      "text/html": [
       "<style>#sk-container-id-1 {color: black;background-color: white;}#sk-container-id-1 pre{padding: 0;}#sk-container-id-1 div.sk-toggleable {background-color: white;}#sk-container-id-1 label.sk-toggleable__label {cursor: pointer;display: block;width: 100%;margin-bottom: 0;padding: 0.3em;box-sizing: border-box;text-align: center;}#sk-container-id-1 label.sk-toggleable__label-arrow:before {content: \"▸\";float: left;margin-right: 0.25em;color: #696969;}#sk-container-id-1 label.sk-toggleable__label-arrow:hover:before {color: black;}#sk-container-id-1 div.sk-estimator:hover label.sk-toggleable__label-arrow:before {color: black;}#sk-container-id-1 div.sk-toggleable__content {max-height: 0;max-width: 0;overflow: hidden;text-align: left;background-color: #f0f8ff;}#sk-container-id-1 div.sk-toggleable__content pre {margin: 0.2em;color: black;border-radius: 0.25em;background-color: #f0f8ff;}#sk-container-id-1 input.sk-toggleable__control:checked~div.sk-toggleable__content {max-height: 200px;max-width: 100%;overflow: auto;}#sk-container-id-1 input.sk-toggleable__control:checked~label.sk-toggleable__label-arrow:before {content: \"▾\";}#sk-container-id-1 div.sk-estimator input.sk-toggleable__control:checked~label.sk-toggleable__label {background-color: #d4ebff;}#sk-container-id-1 div.sk-label input.sk-toggleable__control:checked~label.sk-toggleable__label {background-color: #d4ebff;}#sk-container-id-1 input.sk-hidden--visually {border: 0;clip: rect(1px 1px 1px 1px);clip: rect(1px, 1px, 1px, 1px);height: 1px;margin: -1px;overflow: hidden;padding: 0;position: absolute;width: 1px;}#sk-container-id-1 div.sk-estimator {font-family: monospace;background-color: #f0f8ff;border: 1px dotted black;border-radius: 0.25em;box-sizing: border-box;margin-bottom: 0.5em;}#sk-container-id-1 div.sk-estimator:hover {background-color: #d4ebff;}#sk-container-id-1 div.sk-parallel-item::after {content: \"\";width: 100%;border-bottom: 1px solid gray;flex-grow: 1;}#sk-container-id-1 div.sk-label:hover label.sk-toggleable__label {background-color: #d4ebff;}#sk-container-id-1 div.sk-serial::before {content: \"\";position: absolute;border-left: 1px solid gray;box-sizing: border-box;top: 0;bottom: 0;left: 50%;z-index: 0;}#sk-container-id-1 div.sk-serial {display: flex;flex-direction: column;align-items: center;background-color: white;padding-right: 0.2em;padding-left: 0.2em;position: relative;}#sk-container-id-1 div.sk-item {position: relative;z-index: 1;}#sk-container-id-1 div.sk-parallel {display: flex;align-items: stretch;justify-content: center;background-color: white;position: relative;}#sk-container-id-1 div.sk-item::before, #sk-container-id-1 div.sk-parallel-item::before {content: \"\";position: absolute;border-left: 1px solid gray;box-sizing: border-box;top: 0;bottom: 0;left: 50%;z-index: -1;}#sk-container-id-1 div.sk-parallel-item {display: flex;flex-direction: column;z-index: 1;position: relative;background-color: white;}#sk-container-id-1 div.sk-parallel-item:first-child::after {align-self: flex-end;width: 50%;}#sk-container-id-1 div.sk-parallel-item:last-child::after {align-self: flex-start;width: 50%;}#sk-container-id-1 div.sk-parallel-item:only-child::after {width: 0;}#sk-container-id-1 div.sk-dashed-wrapped {border: 1px dashed gray;margin: 0 0.4em 0.5em 0.4em;box-sizing: border-box;padding-bottom: 0.4em;background-color: white;}#sk-container-id-1 div.sk-label label {font-family: monospace;font-weight: bold;display: inline-block;line-height: 1.2em;}#sk-container-id-1 div.sk-label-container {text-align: center;}#sk-container-id-1 div.sk-container {/* jupyter's `normalize.less` sets `[hidden] { display: none; }` but bootstrap.min.css set `[hidden] { display: none !important; }` so we also need the `!important` here to be able to override the default hidden behavior on the sphinx rendered scikit-learn.org. See: https://github.com/scikit-learn/scikit-learn/issues/21755 */display: inline-block !important;position: relative;}#sk-container-id-1 div.sk-text-repr-fallback {display: none;}</style><div id=\"sk-container-id-1\" class=\"sk-top-container\"><div class=\"sk-text-repr-fallback\"><pre>SGDClassifier(random_state=42)</pre><b>In a Jupyter environment, please rerun this cell to show the HTML representation or trust the notebook. <br />On GitHub, the HTML representation is unable to render, please try loading this page with nbviewer.org.</b></div><div class=\"sk-container\" hidden><div class=\"sk-item\"><div class=\"sk-estimator sk-toggleable\"><input class=\"sk-toggleable__control sk-hidden--visually\" id=\"sk-estimator-id-1\" type=\"checkbox\" checked><label for=\"sk-estimator-id-1\" class=\"sk-toggleable__label sk-toggleable__label-arrow\">SGDClassifier</label><div class=\"sk-toggleable__content\"><pre>SGDClassifier(random_state=42)</pre></div></div></div></div></div>"
      ],
      "text/plain": [
       "SGDClassifier(random_state=42)"
      ]
     },
     "execution_count": 10,
     "metadata": {},
     "output_type": "execute_result"
    }
   ],
   "source": [
    "sgd_clf.fit(X_train, y_train)"
   ]
  },
  {
   "cell_type": "code",
   "execution_count": 11,
   "id": "b5ccd26e",
   "metadata": {
    "execution": {
     "iopub.execute_input": "2024-07-07T00:44:22.228776Z",
     "iopub.status.busy": "2024-07-07T00:44:22.227935Z",
     "iopub.status.idle": "2024-07-07T00:44:52.982695Z",
     "shell.execute_reply": "2024-07-07T00:44:52.981489Z"
    },
    "papermill": {
     "duration": 30.781931,
     "end_time": "2024-07-07T00:44:52.999764",
     "exception": false,
     "start_time": "2024-07-07T00:44:22.217833",
     "status": "completed"
    },
    "tags": []
   },
   "outputs": [
    {
     "data": {
      "text/plain": [
       "array([0.95035, 0.96035, 0.9604 ])"
      ]
     },
     "execution_count": 11,
     "metadata": {},
     "output_type": "execute_result"
    }
   ],
   "source": [
    "from sklearn.model_selection import cross_val_score\n",
    "\n",
    "cross_val_score(sgd_clf, X_train, y_train, cv=3, scoring=\"accuracy\")"
   ]
  },
  {
   "cell_type": "code",
   "execution_count": 12,
   "id": "2fc446ca",
   "metadata": {
    "execution": {
     "iopub.execute_input": "2024-07-07T00:44:53.032130Z",
     "iopub.status.busy": "2024-07-07T00:44:53.031607Z",
     "iopub.status.idle": "2024-07-07T00:44:53.040090Z",
     "shell.execute_reply": "2024-07-07T00:44:53.039019Z"
    },
    "papermill": {
     "duration": 0.028757,
     "end_time": "2024-07-07T00:44:53.043188",
     "exception": false,
     "start_time": "2024-07-07T00:44:53.014431",
     "status": "completed"
    },
    "tags": []
   },
   "outputs": [
    {
     "data": {
      "text/plain": [
       "array([False])"
      ]
     },
     "execution_count": 12,
     "metadata": {},
     "output_type": "execute_result"
    }
   ],
   "source": [
    "sgd_clf.predict([X_test[5]])"
   ]
  },
  {
   "cell_type": "code",
   "execution_count": 13,
   "id": "b7d96c08",
   "metadata": {
    "execution": {
     "iopub.execute_input": "2024-07-07T00:44:53.076756Z",
     "iopub.status.busy": "2024-07-07T00:44:53.076196Z",
     "iopub.status.idle": "2024-07-07T00:44:53.095294Z",
     "shell.execute_reply": "2024-07-07T00:44:53.094210Z"
    },
    "papermill": {
     "duration": 0.038102,
     "end_time": "2024-07-07T00:44:53.097511",
     "exception": false,
     "start_time": "2024-07-07T00:44:53.059409",
     "status": "completed"
    },
    "tags": []
   },
   "outputs": [
    {
     "name": "stdout",
     "output_type": "stream",
     "text": [
      "Predictions: [False False False ... False False False]\n",
      "Accuracy: 0.9108\n"
     ]
    }
   ],
   "source": [
    "import numpy as np\n",
    "from sklearn.dummy import DummyClassifier\n",
    "\n",
    "\n",
    "\n",
    "# Create a dummy classifier with the \"most_frequent\" strategy\n",
    "dummy_clf = DummyClassifier(strategy=\"most_frequent\")\n",
    "dummy_clf.fit(X_train, y_train)\n",
    "\n",
    "# Make predictions\n",
    "predictions = dummy_clf.predict(X_test)\n",
    "\n",
    "# Evaluate the model (accuracy score)\n",
    "accuracy = dummy_clf.score(X_test, y_test)\n",
    "\n",
    "print(\"Predictions:\", predictions)\n",
    "print(\"Accuracy:\", accuracy)\n"
   ]
  },
  {
   "cell_type": "code",
   "execution_count": 14,
   "id": "29eba513",
   "metadata": {
    "execution": {
     "iopub.execute_input": "2024-07-07T00:44:53.118269Z",
     "iopub.status.busy": "2024-07-07T00:44:53.117464Z",
     "iopub.status.idle": "2024-07-07T00:44:53.682989Z",
     "shell.execute_reply": "2024-07-07T00:44:53.681902Z"
    },
    "papermill": {
     "duration": 0.578831,
     "end_time": "2024-07-07T00:44:53.685530",
     "exception": false,
     "start_time": "2024-07-07T00:44:53.106699",
     "status": "completed"
    },
    "tags": []
   },
   "outputs": [
    {
     "data": {
      "text/plain": [
       "array([0.90965, 0.90965, 0.90965])"
      ]
     },
     "execution_count": 14,
     "metadata": {},
     "output_type": "execute_result"
    }
   ],
   "source": [
    "cross_val_score(dummy_clf, X_train, y_train, cv=3, scoring=\"accuracy\")"
   ]
  },
  {
   "cell_type": "code",
   "execution_count": 15,
   "id": "2ac4ae2d",
   "metadata": {
    "execution": {
     "iopub.execute_input": "2024-07-07T00:44:53.706059Z",
     "iopub.status.busy": "2024-07-07T00:44:53.705671Z",
     "iopub.status.idle": "2024-07-07T00:45:24.768054Z",
     "shell.execute_reply": "2024-07-07T00:45:24.766982Z"
    },
    "papermill": {
     "duration": 31.084067,
     "end_time": "2024-07-07T00:45:24.779140",
     "exception": false,
     "start_time": "2024-07-07T00:44:53.695073",
     "status": "completed"
    },
    "tags": []
   },
   "outputs": [
    {
     "data": {
      "image/png": "[encoded data removed]",
      "text/plain": [
       "<Figure size 640x480 with 2 Axes>"
      ]
     },
     "metadata": {},
     "output_type": "display_data"
    }
   ],
   "source": [
    "from sklearn.metrics import ConfusionMatrixDisplay\n",
    "from sklearn.model_selection import cross_val_predict\n",
    "import matplotlib.pyplot as plt\n",
    "y_train_pred = cross_val_predict(sgd_clf, X_train, y_train, cv=3)\n",
    "plt.rc('font', size=9)  # extra code – make the text smaller\n",
    "ConfusionMatrixDisplay.from_predictions(y_train, y_train_pred)\n",
    "plt.show()"
   ]
  },
  {
   "cell_type": "code",
   "execution_count": 16,
   "id": "ff3c2ea7",
   "metadata": {
    "execution": {
     "iopub.execute_input": "2024-07-07T00:45:24.800332Z",
     "iopub.status.busy": "2024-07-07T00:45:24.799942Z",
     "iopub.status.idle": "2024-07-07T00:45:55.572126Z",
     "shell.execute_reply": "2024-07-07T00:45:55.570604Z"
    },
    "papermill": {
     "duration": 30.788868,
     "end_time": "2024-07-07T00:45:55.577549",
     "exception": false,
     "start_time": "2024-07-07T00:45:24.788681",
     "status": "completed"
    },
    "tags": []
   },
   "outputs": [],
   "source": [
    "from sklearn.model_selection import cross_val_predict\n",
    "\n",
    "y_train_pred = cross_val_predict(sgd_clf, X_train, y_train, cv=3)"
   ]
  },
  {
   "cell_type": "code",
   "execution_count": 17,
   "id": "4dca412a",
   "metadata": {
    "execution": {
     "iopub.execute_input": "2024-07-07T00:45:55.613144Z",
     "iopub.status.busy": "2024-07-07T00:45:55.612389Z",
     "iopub.status.idle": "2024-07-07T00:45:55.638203Z",
     "shell.execute_reply": "2024-07-07T00:45:55.636999Z"
    },
    "papermill": {
     "duration": 0.046889,
     "end_time": "2024-07-07T00:45:55.641441",
     "exception": false,
     "start_time": "2024-07-07T00:45:55.594552",
     "status": "completed"
    },
    "tags": []
   },
   "outputs": [
    {
     "data": {
      "text/plain": [
       "array([[53892,   687],\n",
       "       [ 1891,  3530]])"
      ]
     },
     "execution_count": 17,
     "metadata": {},
     "output_type": "execute_result"
    }
   ],
   "source": [
    "from sklearn.metrics import confusion_matrix\n",
    "\n",
    "cm = confusion_matrix(y_train, y_train_pred)\n",
    "cm"
   ]
  },
  {
   "cell_type": "code",
   "execution_count": 18,
   "id": "04eafcac",
   "metadata": {
    "execution": {
     "iopub.execute_input": "2024-07-07T00:45:55.676564Z",
     "iopub.status.busy": "2024-07-07T00:45:55.676015Z",
     "iopub.status.idle": "2024-07-07T00:45:55.696498Z",
     "shell.execute_reply": "2024-07-07T00:45:55.695365Z"
    },
    "papermill": {
     "duration": 0.041049,
     "end_time": "2024-07-07T00:45:55.698930",
     "exception": false,
     "start_time": "2024-07-07T00:45:55.657881",
     "status": "completed"
    },
    "tags": []
   },
   "outputs": [
    {
     "data": {
      "text/plain": [
       "array([[54579,     0],\n",
       "       [    0,  5421]])"
      ]
     },
     "execution_count": 18,
     "metadata": {},
     "output_type": "execute_result"
    }
   ],
   "source": [
    "y_train_perfect_predictions = y_train  # pretend we reached perfection\n",
    "confusion_matrix(y_train, y_train_perfect_predictions)"
   ]
  },
  {
   "cell_type": "code",
   "execution_count": 19,
   "id": "599de075",
   "metadata": {
    "execution": {
     "iopub.execute_input": "2024-07-07T00:45:55.720794Z",
     "iopub.status.busy": "2024-07-07T00:45:55.720371Z",
     "iopub.status.idle": "2024-07-07T00:45:55.749705Z",
     "shell.execute_reply": "2024-07-07T00:45:55.748638Z"
    },
    "papermill": {
     "duration": 0.043058,
     "end_time": "2024-07-07T00:45:55.752212",
     "exception": false,
     "start_time": "2024-07-07T00:45:55.709154",
     "status": "completed"
    },
    "tags": []
   },
   "outputs": [
    {
     "data": {
      "text/plain": [
       "0.9570333333333333"
      ]
     },
     "execution_count": 19,
     "metadata": {},
     "output_type": "execute_result"
    }
   ],
   "source": [
    "from sklearn.metrics import precision_score, recall_score\n",
    "\n",
    "precision_score(y_train, y_train_pred, average='micro') "
   ]
  },
  {
   "cell_type": "code",
   "execution_count": 20,
   "id": "7907fc8a",
   "metadata": {
    "execution": {
     "iopub.execute_input": "2024-07-07T00:45:55.774172Z",
     "iopub.status.busy": "2024-07-07T00:45:55.773781Z",
     "iopub.status.idle": "2024-07-07T00:45:55.801739Z",
     "shell.execute_reply": "2024-07-07T00:45:55.800713Z"
    },
    "papermill": {
     "duration": 0.041606,
     "end_time": "2024-07-07T00:45:55.804087",
     "exception": false,
     "start_time": "2024-07-07T00:45:55.762481",
     "status": "completed"
    },
    "tags": []
   },
   "outputs": [
    {
     "data": {
      "text/plain": [
       "0.9570333333333333"
      ]
     },
     "execution_count": 20,
     "metadata": {},
     "output_type": "execute_result"
    }
   ],
   "source": [
    "recall_score(y_train, y_train_pred, average='micro') "
   ]
  },
  {
   "cell_type": "code",
   "execution_count": 21,
   "id": "091ec757",
   "metadata": {
    "execution": {
     "iopub.execute_input": "2024-07-07T00:45:55.826268Z",
     "iopub.status.busy": "2024-07-07T00:45:55.825868Z",
     "iopub.status.idle": "2024-07-07T00:45:55.854333Z",
     "shell.execute_reply": "2024-07-07T00:45:55.853211Z"
    },
    "papermill": {
     "duration": 0.042506,
     "end_time": "2024-07-07T00:45:55.856832",
     "exception": false,
     "start_time": "2024-07-07T00:45:55.814326",
     "status": "completed"
    },
    "tags": []
   },
   "outputs": [
    {
     "data": {
      "text/plain": [
       "0.9570333333333333"
      ]
     },
     "execution_count": 21,
     "metadata": {},
     "output_type": "execute_result"
    }
   ],
   "source": [
    "from sklearn.metrics import f1_score\n",
    "\n",
    "f1_score(y_train, y_train_pred, average='micro')"
   ]
  },
  {
   "cell_type": "code",
   "execution_count": 22,
   "id": "36b5ef06",
   "metadata": {
    "execution": {
     "iopub.execute_input": "2024-07-07T00:45:55.879759Z",
     "iopub.status.busy": "2024-07-07T00:45:55.879274Z",
     "iopub.status.idle": "2024-07-07T00:45:55.887149Z",
     "shell.execute_reply": "2024-07-07T00:45:55.885995Z"
    },
    "papermill": {
     "duration": 0.021601,
     "end_time": "2024-07-07T00:45:55.889424",
     "exception": false,
     "start_time": "2024-07-07T00:45:55.867823",
     "status": "completed"
    },
    "tags": []
   },
   "outputs": [
    {
     "data": {
      "text/plain": [
       "array([-8542.1753957])"
      ]
     },
     "execution_count": 22,
     "metadata": {},
     "output_type": "execute_result"
    }
   ],
   "source": [
    "y_scores = sgd_clf.decision_function([X_test[0]])\n",
    "y_scores"
   ]
  },
  {
   "cell_type": "code",
   "execution_count": 23,
   "id": "f9caeaa5",
   "metadata": {
    "execution": {
     "iopub.execute_input": "2024-07-07T00:45:55.912075Z",
     "iopub.status.busy": "2024-07-07T00:45:55.911658Z",
     "iopub.status.idle": "2024-07-07T00:45:55.918697Z",
     "shell.execute_reply": "2024-07-07T00:45:55.917664Z"
    },
    "papermill": {
     "duration": 0.02119,
     "end_time": "2024-07-07T00:45:55.921260",
     "exception": false,
     "start_time": "2024-07-07T00:45:55.900070",
     "status": "completed"
    },
    "tags": []
   },
   "outputs": [
    {
     "data": {
      "text/plain": [
       "array([False])"
      ]
     },
     "execution_count": 23,
     "metadata": {},
     "output_type": "execute_result"
    }
   ],
   "source": [
    "threshold = 0\n",
    "y_some_digit_pred = (y_scores > threshold)\n",
    "y_some_digit_pred"
   ]
  },
  {
   "cell_type": "code",
   "execution_count": 24,
   "id": "f7205d3b",
   "metadata": {
    "execution": {
     "iopub.execute_input": "2024-07-07T00:45:55.944003Z",
     "iopub.status.busy": "2024-07-07T00:45:55.943614Z",
     "iopub.status.idle": "2024-07-07T00:45:55.950611Z",
     "shell.execute_reply": "2024-07-07T00:45:55.949584Z"
    },
    "papermill": {
     "duration": 0.021085,
     "end_time": "2024-07-07T00:45:55.953045",
     "exception": false,
     "start_time": "2024-07-07T00:45:55.931960",
     "status": "completed"
    },
    "tags": []
   },
   "outputs": [
    {
     "data": {
      "text/plain": [
       "array([False])"
      ]
     },
     "execution_count": 24,
     "metadata": {},
     "output_type": "execute_result"
    }
   ],
   "source": [
    "threshold = 200000\n",
    "y_some_digit_pred = (y_scores > threshold)\n",
    "y_some_digit_pred"
   ]
  },
  {
   "cell_type": "code",
   "execution_count": 25,
   "id": "957c7681",
   "metadata": {
    "execution": {
     "iopub.execute_input": "2024-07-07T00:45:55.976834Z",
     "iopub.status.busy": "2024-07-07T00:45:55.976133Z",
     "iopub.status.idle": "2024-07-07T00:46:26.805297Z",
     "shell.execute_reply": "2024-07-07T00:46:26.803879Z"
    },
    "papermill": {
     "duration": 30.845162,
     "end_time": "2024-07-07T00:46:26.808992",
     "exception": false,
     "start_time": "2024-07-07T00:45:55.963830",
     "status": "completed"
    },
    "tags": []
   },
   "outputs": [],
   "source": [
    "y_scores = cross_val_predict(sgd_clf, X_train, y_train, cv=3,\n",
    "                             method=\"decision_function\")"
   ]
  },
  {
   "cell_type": "code",
   "execution_count": 26,
   "id": "177c1b91",
   "metadata": {
    "execution": {
     "iopub.execute_input": "2024-07-07T00:46:26.846803Z",
     "iopub.status.busy": "2024-07-07T00:46:26.846182Z",
     "iopub.status.idle": "2024-07-07T00:46:27.075890Z",
     "shell.execute_reply": "2024-07-07T00:46:27.074661Z"
    },
    "papermill": {
     "duration": 0.251143,
     "end_time": "2024-07-07T00:46:27.078288",
     "exception": false,
     "start_time": "2024-07-07T00:46:26.827145",
     "status": "completed"
    },
    "tags": []
   },
   "outputs": [
    {
     "data": {
      "image/png": "[encoded data removed]",
      "text/plain": [
       "<Figure size 800x400 with 1 Axes>"
      ]
     },
     "metadata": {},
     "output_type": "display_data"
    }
   ],
   "source": [
    "from sklearn.metrics import precision_recall_curve\n",
    "\n",
    "precisions, recalls, thresholds = precision_recall_curve(y_train, y_scores)\n",
    "plt.figure(figsize=(8, 4))  # extra code – it's not needed, just formatting\n",
    "plt.plot(thresholds, precisions[:-1], \"b--\", label=\"Precision\", linewidth=2)\n",
    "plt.plot(thresholds, recalls[:-1], \"g-\", label=\"Recall\", linewidth=2)\n",
    "plt.vlines(threshold, 0, 1.0, \"k\", \"dotted\", label=\"threshold\")\n",
    "plt.show()"
   ]
  },
  {
   "cell_type": "code",
   "execution_count": 27,
   "id": "a96c5832",
   "metadata": {
    "execution": {
     "iopub.execute_input": "2024-07-07T00:46:27.102275Z",
     "iopub.status.busy": "2024-07-07T00:46:27.101908Z",
     "iopub.status.idle": "2024-07-07T00:46:27.152025Z",
     "shell.execute_reply": "2024-07-07T00:46:27.150824Z"
    },
    "papermill": {
     "duration": 0.064969,
     "end_time": "2024-07-07T00:46:27.154510",
     "exception": false,
     "start_time": "2024-07-07T00:46:27.089541",
     "status": "completed"
    },
    "tags": []
   },
   "outputs": [
    {
     "data": {
      "text/plain": [
       "1.0"
      ]
     },
     "execution_count": 27,
     "metadata": {},
     "output_type": "execute_result"
    }
   ],
   "source": [
    "idx_for_90_precision = (y_train_pred >= 0.90).argmax()\n",
    "threshold_for_90_precision = thresholds[idx_for_90_precision]\n",
    "threshold_for_90_precision\n",
    "y_train_pred_90 = (y_scores >= threshold_for_90_precision)\n",
    "precision_score(y_train, y_train_pred_90)\n",
    "recall_at_90_precision = recall_score(y_train, y_train_pred_90)\n",
    "recall_at_90_precision"
   ]
  },
  {
   "cell_type": "code",
   "execution_count": 28,
   "id": "ec359147",
   "metadata": {
    "execution": {
     "iopub.execute_input": "2024-07-07T00:46:27.178636Z",
     "iopub.status.busy": "2024-07-07T00:46:27.178256Z",
     "iopub.status.idle": "2024-07-07T00:46:27.380283Z",
     "shell.execute_reply": "2024-07-07T00:46:27.378970Z"
    },
    "papermill": {
     "duration": 0.216959,
     "end_time": "2024-07-07T00:46:27.382913",
     "exception": false,
     "start_time": "2024-07-07T00:46:27.165954",
     "status": "completed"
    },
    "tags": []
   },
   "outputs": [
    {
     "data": {
      "text/plain": [
       "[<matplotlib.lines.Line2D at 0x7f10fa28a290>]"
      ]
     },
     "execution_count": 28,
     "metadata": {},
     "output_type": "execute_result"
    },
    {
     "data": {
      "image/png": "[encoded data removed]",
      "text/plain": [
       "<Figure size 600x500 with 1 Axes>"
      ]
     },
     "metadata": {},
     "output_type": "display_data"
    }
   ],
   "source": [
    "from sklearn.metrics import roc_curve\n",
    "\n",
    "fpr, tpr, thresholds = roc_curve(y_train, y_train_pred)\n",
    "idx_for_threshold_at_90 = (thresholds <= threshold_for_90_precision).argmax()\n",
    "tpr_90, fpr_90 = tpr[idx_for_threshold_at_90], fpr[idx_for_threshold_at_90]\n",
    "\n",
    "plt.figure(figsize=(6, 5))  # extra code – not needed, just formatting\n",
    "plt.plot(fpr, tpr, linewidth=2, label=\"ROC curve\")\n",
    "plt.plot([0, 1], [0, 1], 'k:', label=\"Random classifier's ROC curve\")\n",
    "plt.plot([fpr_90], [tpr_90], \"ko\", label=\"Threshold for 90% precision\")"
   ]
  },
  {
   "cell_type": "code",
   "execution_count": 29,
   "id": "d986af42",
   "metadata": {
    "execution": {
     "iopub.execute_input": "2024-07-07T00:46:27.408424Z",
     "iopub.status.busy": "2024-07-07T00:46:27.407625Z",
     "iopub.status.idle": "2024-07-07T00:46:27.438321Z",
     "shell.execute_reply": "2024-07-07T00:46:27.437059Z"
    },
    "papermill": {
     "duration": 0.046073,
     "end_time": "2024-07-07T00:46:27.440740",
     "exception": false,
     "start_time": "2024-07-07T00:46:27.394667",
     "status": "completed"
    },
    "tags": []
   },
   "outputs": [
    {
     "data": {
      "text/plain": [
       "0.9604938554008616"
      ]
     },
     "execution_count": 29,
     "metadata": {},
     "output_type": "execute_result"
    }
   ],
   "source": [
    "from sklearn.metrics import roc_auc_score\n",
    "\n",
    "roc_auc_score(y_train, y_scores)"
   ]
  },
  {
   "cell_type": "code",
   "execution_count": 30,
   "id": "a91c9463",
   "metadata": {
    "execution": {
     "iopub.execute_input": "2024-07-07T00:46:27.466996Z",
     "iopub.status.busy": "2024-07-07T00:46:27.465960Z",
     "iopub.status.idle": "2024-07-07T00:47:49.624361Z",
     "shell.execute_reply": "2024-07-07T00:47:49.623219Z"
    },
    "papermill": {
     "duration": 82.186149,
     "end_time": "2024-07-07T00:47:49.639026",
     "exception": false,
     "start_time": "2024-07-07T00:46:27.452877",
     "status": "completed"
    },
    "tags": []
   },
   "outputs": [
    {
     "data": {
      "text/plain": [
       "array([[0.11, 0.89],\n",
       "       [0.99, 0.01]])"
      ]
     },
     "execution_count": 30,
     "metadata": {},
     "output_type": "execute_result"
    }
   ],
   "source": [
    "from sklearn.ensemble import RandomForestClassifier\n",
    "\n",
    "forest_clf = RandomForestClassifier(random_state=42)\n",
    "y_probas_forest = cross_val_predict(forest_clf, X_train, y_train, cv=3,\n",
    "                                    method=\"predict_proba\")\n",
    "y_probas_forest[:2]\n"
   ]
  },
  {
   "cell_type": "code",
   "execution_count": 31,
   "id": "3fbc8774",
   "metadata": {
    "execution": {
     "iopub.execute_input": "2024-07-07T00:47:49.666839Z",
     "iopub.status.busy": "2024-07-07T00:47:49.665699Z",
     "iopub.status.idle": "2024-07-07T00:47:49.679085Z",
     "shell.execute_reply": "2024-07-07T00:47:49.677898Z"
    },
    "papermill": {
     "duration": 0.029415,
     "end_time": "2024-07-07T00:47:49.681582",
     "exception": false,
     "start_time": "2024-07-07T00:47:49.652167",
     "status": "completed"
    },
    "tags": []
   },
   "outputs": [],
   "source": [
    "y_scores_forest = y_probas_forest[:, 1]\n",
    "precisions_forest, recalls_forest, thresholds_forest = precision_recall_curve(\n",
    "    y_train, y_scores_forest)"
   ]
  },
  {
   "cell_type": "code",
   "execution_count": 32,
   "id": "c798c49e",
   "metadata": {
    "execution": {
     "iopub.execute_input": "2024-07-07T00:47:49.707026Z",
     "iopub.status.busy": "2024-07-07T00:47:49.706634Z",
     "iopub.status.idle": "2024-07-07T00:47:49.735488Z",
     "shell.execute_reply": "2024-07-07T00:47:49.734534Z"
    },
    "papermill": {
     "duration": 0.044364,
     "end_time": "2024-07-07T00:47:49.737895",
     "exception": false,
     "start_time": "2024-07-07T00:47:49.693531",
     "status": "completed"
    },
    "tags": []
   },
   "outputs": [
    {
     "data": {
      "text/plain": [
       "0.9274509803921569"
      ]
     },
     "execution_count": 32,
     "metadata": {},
     "output_type": "execute_result"
    }
   ],
   "source": [
    "y_train_pred_forest = y_probas_forest[:, 1] >= 0.5  # positive proba ≥ 50%\n",
    "f1_score(y_train, y_train_pred_forest)\n"
   ]
  },
  {
   "cell_type": "code",
   "execution_count": 33,
   "id": "770d1299",
   "metadata": {
    "execution": {
     "iopub.execute_input": "2024-07-07T00:47:49.763516Z",
     "iopub.status.busy": "2024-07-07T00:47:49.763158Z",
     "iopub.status.idle": "2024-07-07T00:47:49.785408Z",
     "shell.execute_reply": "2024-07-07T00:47:49.784262Z"
    },
    "papermill": {
     "duration": 0.037715,
     "end_time": "2024-07-07T00:47:49.787763",
     "exception": false,
     "start_time": "2024-07-07T00:47:49.750048",
     "status": "completed"
    },
    "tags": []
   },
   "outputs": [
    {
     "data": {
      "text/plain": [
       "0.9983436731328145"
      ]
     },
     "execution_count": 33,
     "metadata": {},
     "output_type": "execute_result"
    }
   ],
   "source": [
    "roc_auc_score(y_train, y_scores_forest)\n"
   ]
  },
  {
   "cell_type": "code",
   "execution_count": 34,
   "id": "11d80ba7",
   "metadata": {
    "execution": {
     "iopub.execute_input": "2024-07-07T00:47:49.813802Z",
     "iopub.status.busy": "2024-07-07T00:47:49.813177Z",
     "iopub.status.idle": "2024-07-07T00:47:49.842356Z",
     "shell.execute_reply": "2024-07-07T00:47:49.841292Z"
    },
    "papermill": {
     "duration": 0.044789,
     "end_time": "2024-07-07T00:47:49.844805",
     "exception": false,
     "start_time": "2024-07-07T00:47:49.800016",
     "status": "completed"
    },
    "tags": []
   },
   "outputs": [
    {
     "data": {
      "text/plain": [
       "0.9897468089558485"
      ]
     },
     "execution_count": 34,
     "metadata": {},
     "output_type": "execute_result"
    }
   ],
   "source": [
    "precision_score(y_train, y_train_pred_forest)"
   ]
  },
  {
   "cell_type": "code",
   "execution_count": 35,
   "id": "56047cd7",
   "metadata": {
    "execution": {
     "iopub.execute_input": "2024-07-07T00:47:49.871110Z",
     "iopub.status.busy": "2024-07-07T00:47:49.870424Z",
     "iopub.status.idle": "2024-07-07T00:47:49.898692Z",
     "shell.execute_reply": "2024-07-07T00:47:49.897654Z"
    },
    "papermill": {
     "duration": 0.043972,
     "end_time": "2024-07-07T00:47:49.900941",
     "exception": false,
     "start_time": "2024-07-07T00:47:49.856969",
     "status": "completed"
    },
    "tags": []
   },
   "outputs": [
    {
     "data": {
      "text/plain": [
       "0.8725327430363402"
      ]
     },
     "execution_count": 35,
     "metadata": {},
     "output_type": "execute_result"
    }
   ],
   "source": [
    "recall_score(y_train, y_train_pred_forest)"
   ]
  },
  {
   "cell_type": "code",
   "execution_count": null,
   "id": "7b64df28",
   "metadata": {
    "papermill": {
     "duration": 0.012173,
     "end_time": "2024-07-07T00:47:49.985058",
     "exception": false,
     "start_time": "2024-07-07T00:47:49.972885",
     "status": "completed"
    },
    "tags": []
   },
   "outputs": [],
   "source": []
  }
 ],
 "metadata": {
  "kaggle": {
   "accelerator": "none",
   "dataSources": [
    {
     "datasetId": 102285,
     "sourceId": 242592,
     "sourceType": "datasetVersion"
    }
   ],
   "dockerImageVersionId": 30732,
   "isGpuEnabled": false,
   "isInternetEnabled": true,
   "language": "python",
   "sourceType": "notebook"
  },
  "kernelspec": {
   "display_name": "Python 3",
   "language": "python",
   "name": "python3"
  },
  "language_info": {
   "codemirror_mode": {
    "name": "ipython",
    "version": 3
   },
   "file_extension": ".py",
   "mimetype": "text/x-python",
   "name": "python",
   "nbconvert_exporter": "python",
   "pygments_lexer": "ipython3",
   "version": "3.10.13"
  },
  "papermill": {
   "default_parameters": {},
   "duration": 329.722895,
   "end_time": "2024-07-07T00:47:51.524070",
   "environment_variables": {},
   "exception": null,
   "input_path": "__notebook__.ipynb",
   "output_path": "__notebook__.ipynb",
   "parameters": {},
   "start_time": "2024-07-07T00:42:21.801175",
   "version": "2.5.0"
  }
 },
 "nbformat": 4,
 "nbformat_minor": 5
}
